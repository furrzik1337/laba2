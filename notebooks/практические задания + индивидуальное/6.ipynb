{
 "cells": [
  {
   "cell_type": "code",
   "execution_count": 4,
   "id": "808ca17c-9e2d-4a7f-8e36-60ec0c13eead",
   "metadata": {},
   "outputs": [
    {
     "name": "stdout",
     "output_type": "stream",
     "text": [
      "Первая матрица (A):\n",
      "[[16  9  8]\n",
      " [ 5 17 10]\n",
      " [15  7  1]]\n",
      "\n",
      "Вторая матрица (B):\n",
      "[[20  9 16]\n",
      " [ 5  1  4]\n",
      " [ 4 11  8]]\n",
      "\n",
      "Сумма матриц (A + B):\n",
      "[[36 18 24]\n",
      " [10 18 14]\n",
      " [19 18  9]]\n",
      "\n",
      "Разность матриц (A - B):\n",
      "[[-4  0 -8]\n",
      " [ 0 16  6]\n",
      " [11 -4 -7]]\n",
      "\n",
      "Поэлементное произведение матриц (A * B):\n",
      "[[320  81 128]\n",
      " [ 25  17  40]\n",
      " [ 60  77   8]]\n"
     ]
    }
   ],
   "source": [
    "import numpy as np\n",
    "\n",
    "# Создаем две матрицы 3x3 с случайными целыми числами от 1 до 20\n",
    "matrix_a = np.random.randint(1, 21, size=(3, 3))\n",
    "matrix_b = np.random.randint(1, 21, size=(3, 3))\n",
    "\n",
    "print(\"Первая матрица (A):\")\n",
    "print(matrix_a)\n",
    "\n",
    "print(\"\\nВторая матрица (B):\")\n",
    "print(matrix_b)\n",
    "\n",
    "# Вычисляем сумму матриц\n",
    "matrix_sum = matrix_a + matrix_b\n",
    "\n",
    "# Вычисляем разность матриц\n",
    "matrix_difference = matrix_a - matrix_b\n",
    "\n",
    "# Вычисляем поэлементное произведение матриц\n",
    "elementwise_product = matrix_a * matrix_b\n",
    "\n",
    "# Выводим результаты\n",
    "print(\"\\nСумма матриц (A + B):\")\n",
    "print(matrix_sum)\n",
    "\n",
    "print(\"\\nРазность матриц (A - B):\")\n",
    "print(matrix_difference)\n",
    "\n",
    "print(\"\\nПоэлементное произведение матриц (A * B):\")\n",
    "print(elementwise_product)"
   ]
  },
  {
   "cell_type": "code",
   "execution_count": null,
   "id": "44beeeb0-5be5-4935-8c83-ce35ceca8d3f",
   "metadata": {},
   "outputs": [],
   "source": []
  }
 ],
 "metadata": {
  "kernelspec": {
   "display_name": "Python [conda env:base] *",
   "language": "python",
   "name": "conda-base-py"
  },
  "language_info": {
   "codemirror_mode": {
    "name": "ipython",
    "version": 3
   },
   "file_extension": ".py",
   "mimetype": "text/x-python",
   "name": "python",
   "nbconvert_exporter": "python",
   "pygments_lexer": "ipython3",
   "version": "3.12.7"
  }
 },
 "nbformat": 4,
 "nbformat_minor": 5
}

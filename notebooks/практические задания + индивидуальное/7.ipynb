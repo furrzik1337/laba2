{
 "cells": [
  {
   "cell_type": "code",
   "execution_count": 1,
   "id": "abe8645e",
   "metadata": {},
   "outputs": [
    {
     "name": "stdout",
     "output_type": "stream",
     "text": [
      "Первая матрица (2x3):\n",
      " [[10  3  1]\n",
      " [ 1  2  5]]\n",
      "\n",
      "Вторая матрица (3x2):\n",
      " [[4 9]\n",
      " [3 9]\n",
      " [4 2]]\n",
      "\n",
      "Результат матричного умножения (2x2):\n",
      " [[ 53 119]\n",
      " [ 30  37]]\n"
     ]
    }
   ],
   "source": [
    "import numpy as np\n",
    "\n",
    "matrix1 = np.random.randint(1, 11, size=(2, 3))\n",
    "\n",
    "matrix2 = np.random.randint(1, 11, size=(3, 2))\n",
    "print(\"Первая матрица (2x3):\\n\", matrix1)\n",
    "print(\"\\nВторая матрица (3x2):\\n\", matrix2)\n",
    "\n",
    "result_matrix = matrix1 @ matrix2\n",
    "\n",
    "print(\"\\nРезультат матричного умножения (2x2):\\n\", result_matrix)\n"
   ]
  },
  {
   "cell_type": "code",
   "execution_count": null,
   "id": "88a0d53a",
   "metadata": {},
   "outputs": [],
   "source": []
  }
 ],
 "metadata": {
  "kernelspec": {
   "display_name": "Python [conda env:base] *",
   "language": "python",
   "name": "conda-base-py"
  },
  "language_info": {
   "codemirror_mode": {
    "name": "ipython",
    "version": 3
   },
   "file_extension": ".py",
   "mimetype": "text/x-python",
   "name": "python",
   "nbconvert_exporter": "python",
   "pygments_lexer": "ipython3",
   "version": "3.12.7"
  }
 },
 "nbformat": 4,
 "nbformat_minor": 5
}

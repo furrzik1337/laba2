{
 "cells": [
  {
   "cell_type": "code",
   "execution_count": 5,
   "id": "f0070f7d-7e0e-40fb-8031-dca2dc797684",
   "metadata": {},
   "outputs": [
    {
     "name": "stdout",
     "output_type": "stream",
     "text": [
      "Единичная матрица 4x4:\n",
      "[[1. 0. 0. 0.]\n",
      " [0. 1. 0. 0.]\n",
      " [0. 0. 1. 0.]\n",
      " [0. 0. 0. 1.]]\n",
      "\n",
      "Диагональная матрица 4x4:\n",
      "[[ 5  0  0  0]\n",
      " [ 0 10  0  0]\n",
      " [ 0  0 15  0]\n",
      " [ 0  0  0 20]]\n",
      "\n",
      "Сумма всех элементов единичной матрицы: 4.0\n",
      "Сумма всех элементов диагональной матрицы: 50\n",
      "Сумма диагональной матрицы больше суммы единичной матрицы.\n"
     ]
    }
   ],
   "source": [
    "import numpy as np\n",
    "\n",
    "# Создаем единичную матрицу размером 4x4\n",
    "identity_matrix = np.eye(4)\n",
    "print(\"Единичная матрица 4x4:\")\n",
    "print(identity_matrix)\n",
    "\n",
    "# Создаем диагональную матрицу размером 4x4 с диагональными элементами [5, 10, 15, 20]\n",
    "diagonal_elements = np.array([5, 10, 15, 20])\n",
    "diagonal_matrix = np.diag(diagonal_elements)\n",
    "print(\"\\nДиагональная матрица 4x4:\")\n",
    "print(diagonal_matrix)\n",
    "\n",
    "# Вычисляем суммы всех элементов в каждой матрице\n",
    "identity_sum = np.sum(identity_matrix)\n",
    "diagonal_sum = np.sum(diagonal_matrix)\n",
    "\n",
    "# Выводим результаты\n",
    "print(\"\\nСумма всех элементов единичной матрицы:\", identity_sum)\n",
    "print(\"Сумма всех элементов диагональной матрицы:\", diagonal_sum)\n",
    "\n",
    "# Сравниваем результаты\n",
    "if identity_sum > diagonal_sum:\n",
    "    print(\"Сумма единичной матрицы больше суммы диагональной матрицы.\")\n",
    "elif identity_sum < diagonal_sum:\n",
    "    print(\"Сумма диагональной матрицы больше суммы единичной матрицы.\")\n",
    "else:\n",
    "    print(\"Суммы обеих матриц равны.\")"
   ]
  },
  {
   "cell_type": "code",
   "execution_count": null,
   "id": "b9edf29b-2073-49aa-bec9-fa24fae13cec",
   "metadata": {},
   "outputs": [],
   "source": []
  }
 ],
 "metadata": {
  "kernelspec": {
   "display_name": "Python [conda env:base] *",
   "language": "python",
   "name": "conda-base-py"
  },
  "language_info": {
   "codemirror_mode": {
    "name": "ipython",
    "version": 3
   },
   "file_extension": ".py",
   "mimetype": "text/x-python",
   "name": "python",
   "nbconvert_exporter": "python",
   "pygments_lexer": "ipython3",
   "version": "3.12.7"
  }
 },
 "nbformat": 4,
 "nbformat_minor": 5
}

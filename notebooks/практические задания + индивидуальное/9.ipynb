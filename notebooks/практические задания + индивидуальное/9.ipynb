{
 "cells": [
  {
   "cell_type": "code",
   "execution_count": 5,
   "id": "a47ed23c-92ee-4d99-96bc-70d6093f96a9",
   "metadata": {},
   "outputs": [
    {
     "name": "stdout",
     "output_type": "stream",
     "text": [
      "Исходная матрица:\n",
      "[[48  1 27 12]\n",
      " [28 34 38 12]\n",
      " [27 46 21 17]\n",
      " [12 35 47 21]]\n",
      "\n",
      "Транспонированная матрица:\n",
      "[[48 28 27 12]\n",
      " [ 1 34 46 35]\n",
      " [27 38 21 47]\n",
      " [12 12 17 21]]\n",
      "\n",
      "След матрицы (сумма элементов на главной диагонали): 124\n"
     ]
    }
   ],
   "source": [
    "import numpy as np\n",
    "\n",
    "# Создаем матрицу 4x4 с случайными целыми числами от 1 до 50\n",
    "matrix = np.random.randint(1, 51, size=(4, 4))\n",
    "\n",
    "print(\"Исходная матрица:\")\n",
    "print(matrix)\n",
    "\n",
    "# Транспонируем матрицу\n",
    "transposed_matrix = matrix.T\n",
    "print(\"\\nТранспонированная матрица:\")\n",
    "print(transposed_matrix)\n",
    "\n",
    "# Вычисляем след матрицы (сумму элементов на главной диагонали)\n",
    "matrix_trace = np.trace(matrix)\n",
    "print(\"\\nСлед матрицы (сумма элементов на главной диагонали):\", matrix_trace)\n"
   ]
  },
  {
   "cell_type": "code",
   "execution_count": null,
   "id": "07059f5e-5e72-479f-8bd7-5d4fc6983aab",
   "metadata": {},
   "outputs": [],
   "source": []
  }
 ],
 "metadata": {
  "kernelspec": {
   "display_name": "Python [conda env:base] *",
   "language": "python",
   "name": "conda-base-py"
  },
  "language_info": {
   "codemirror_mode": {
    "name": "ipython",
    "version": 3
   },
   "file_extension": ".py",
   "mimetype": "text/x-python",
   "name": "python",
   "nbconvert_exporter": "python",
   "pygments_lexer": "ipython3",
   "version": "3.12.7"
  }
 },
 "nbformat": 4,
 "nbformat_minor": 5
}

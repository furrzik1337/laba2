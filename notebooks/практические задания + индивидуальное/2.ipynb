{
 "cells": [
  {
   "cell_type": "code",
   "execution_count": 1,
   "id": "04cdeb34",
   "metadata": {},
   "outputs": [
    {
     "name": "stdout",
     "output_type": "stream",
     "text": [
      "Исходный массив:\n",
      "[ 7 25 39 32 26 57 93 92 44 86 65 20 66 86 66 25 57  2  8 60]\n",
      "\n",
      "Элементы, делящиеся на 5:\n",
      "[25 65 20 25 60]\n",
      "\n",
      "Обновленный массив (элементы, делящиеся на 5, заменены на -1):\n",
      "[ 7 -1 39 32 26 57 93 92 44 86 -1 -1 66 86 66 -1 57  2  8 -1]\n"
     ]
    }
   ],
   "source": [
    "import numpy as np\n",
    "\n",
    "arr = np.random.randint(1, 101, 20)\n",
    "\n",
    "print(\"Исходный массив:\")\n",
    "print(arr)\n",
    "\n",
    "elements_divisible_by_5 = arr[arr % 5 == 0]\n",
    "print(\"\\nЭлементы, делящиеся на 5:\")\n",
    "print(elements_divisible_by_5)\n",
    "\n",
    "arr[arr % 5 == 0] = -1\n",
    "\n",
    "print(\"\\nОбновленный массив (элементы, делящиеся на 5, заменены на -1):\")\n",
    "print(arr)\n"
   ]
  },
  {
   "cell_type": "code",
   "execution_count": null,
   "id": "45f35f3b",
   "metadata": {},
   "outputs": [],
   "source": []
  }
 ],
 "metadata": {
  "kernelspec": {
   "display_name": "Python [conda env:base] *",
   "language": "python",
   "name": "conda-base-py"
  },
  "language_info": {
   "codemirror_mode": {
    "name": "ipython",
    "version": 3
   },
   "file_extension": ".py",
   "mimetype": "text/x-python",
   "name": "python",
   "nbconvert_exporter": "python",
   "pygments_lexer": "ipython3",
   "version": "3.12.7"
  }
 },
 "nbformat": 4,
 "nbformat_minor": 5
}

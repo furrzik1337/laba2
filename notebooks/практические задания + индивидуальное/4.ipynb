{
 "cells": [
  {
   "cell_type": "code",
   "execution_count": 5,
   "id": "394cb63e-f4d5-4c09-b283-33512c47316c",
   "metadata": {},
   "outputs": [
    {
     "name": "stdout",
     "output_type": "stream",
     "text": [
      "Сгенерированный массив:\n",
      "[-3.7196128   5.17478839 -4.50708116  9.59744689 -0.23540313 -8.3044673\n",
      " -8.34306972  1.98150252 -6.30717104 -6.93901182  3.15408784  8.87205215\n",
      " -9.20803632 -2.6914661  -0.94685875 -0.63898046 -4.75859433  7.32907049\n",
      " -6.6189678   4.60594295 -9.54579863 -0.65291571  9.02101802  0.0150602\n",
      "  0.44438072  1.00911838 -3.99178478 -7.582662   -5.6933584   5.42074516\n",
      " -4.82093895  4.45259546  4.39603654  2.98756443  1.93043794  3.56916917\n",
      " -1.109959   -8.08778917  5.55118202 -3.02308553 -4.36113712 -9.54319579\n",
      "  9.18086036 -4.91890322  4.15584698  6.8852648   7.6710484  -0.90695362\n",
      " -6.21179087  1.96635626]\n",
      "\n",
      "Сумма всех элементов: -24.297417460886443\n",
      "Сумма положительных элементов: 109.37157606069268\n",
      "Сумма отрицательных элементов: -133.66899352157913\n"
     ]
    }
   ],
   "source": [
    "import numpy as np\n",
    "\n",
    "# Создаем массив из 50 чисел, равномерно распределённых от -10 до 10\n",
    "array = np.random.uniform(-10, 10, size=50)\n",
    "print(\"Сгенерированный массив:\")\n",
    "print(array)\n",
    "\n",
    "# Вычисляем суммы\n",
    "total_sum = np.sum(array)\n",
    "positive_sum = np.sum(array[array > 0])\n",
    "negative_sum = np.sum(array[array < 0])\n",
    "\n",
    "# Выводим результаты\n",
    "print(\"\\nСумма всех элементов:\", total_sum)\n",
    "print(\"Сумма положительных элементов:\", positive_sum)\n",
    "print(\"Сумма отрицательных элементов:\", negative_sum)"
   ]
  },
  {
   "cell_type": "code",
   "execution_count": null,
   "id": "8b217643-9f57-48ed-a6f9-fb9902539c4f",
   "metadata": {},
   "outputs": [],
   "source": []
  }
 ],
 "metadata": {
  "kernelspec": {
   "display_name": "Python [conda env:base] *",
   "language": "python",
   "name": "conda-base-py"
  },
  "language_info": {
   "codemirror_mode": {
    "name": "ipython",
    "version": 3
   },
   "file_extension": ".py",
   "mimetype": "text/x-python",
   "name": "python",
   "nbconvert_exporter": "python",
   "pygments_lexer": "ipython3",
   "version": "3.12.7"
  }
 },
 "nbformat": 4,
 "nbformat_minor": 5
}

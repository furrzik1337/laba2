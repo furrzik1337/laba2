{
 "cells": [
  {
   "cell_type": "code",
   "execution_count": 1,
   "id": "b2c70df1",
   "metadata": {},
   "outputs": [
    {
     "name": "stdout",
     "output_type": "stream",
     "text": [
      "Первый массив:\n",
      "[[ 8 39 31  4  9]]\n",
      "\n",
      "Второй массив:\n",
      "[[ 8 48  6 15  6]]\n",
      "\n",
      "Объединенный массив:\n",
      "[[ 8 39 31  4  9]\n",
      " [ 8 48  6 15  6]]\n",
      "\n",
      "Первый разделенный массив:\n",
      "[[ 8 39 31  4  9]]\n",
      "\n",
      "Второй разделенный массив:\n",
      "[[ 8 48  6 15  6]]\n"
     ]
    }
   ],
   "source": [
    "import numpy as np\n",
    "\n",
    "arr1 = np.random.randint(0, 51, size=(1, 5))\n",
    "arr2 = np.random.randint(0, 51, size=(1, 5))\n",
    "\n",
    "print(\"Первый массив:\")\n",
    "print(arr1)\n",
    "print(\"\\nВторой массив:\")\n",
    "print(arr2)\n",
    "\n",
    "combined_arr = np.concatenate((arr1, arr2), axis=0)\n",
    "\n",
    "print(\"\\nОбъединенный массив:\")\n",
    "print(combined_arr)\n",
    "\n",
    "arr_split1, arr_split2 = np.split(combined_arr, 2, axis=0)\n",
    "print(\"\\nПервый разделенный массив:\")\n",
    "print(arr_split1)\n",
    "print(\"\\nВторой разделенный массив:\")\n",
    "print(arr_split2)\n"
   ]
  },
  {
   "cell_type": "code",
   "execution_count": null,
   "id": "9c650228",
   "metadata": {},
   "outputs": [],
   "source": []
  }
 ],
 "metadata": {
  "kernelspec": {
   "display_name": "Python [conda env:base] *",
   "language": "python",
   "name": "conda-base-py"
  },
  "language_info": {
   "codemirror_mode": {
    "name": "ipython",
    "version": 3
   },
   "file_extension": ".py",
   "mimetype": "text/x-python",
   "name": "python",
   "nbconvert_exporter": "python",
   "pygments_lexer": "ipython3",
   "version": "3.12.7"
  }
 },
 "nbformat": 4,
 "nbformat_minor": 5
}

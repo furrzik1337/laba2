{
 "cells": [
  {
   "cell_type": "code",
   "execution_count": 3,
   "id": "cf0e93c7-318a-4099-b7f6-64904b2520ef",
   "metadata": {},
   "outputs": [
    {
     "name": "stdout",
     "output_type": "stream",
     "text": [
      "Решение системы уравнений:\n",
      "x = 1.6396396396396398\n",
      "y = 0.5765765765765767\n",
      "z = 0.009009009009008993\n"
     ]
    }
   ],
   "source": [
    "import numpy as np\n",
    "\n",
    "# Определяем матрицу коэффициентов A\n",
    "A = np.array([[2, 3, -1],\n",
    "              [4, -1, 2],\n",
    "              [-3, 5, 4]])\n",
    "\n",
    "# Определяем вектор правой части B\n",
    "B = np.array([5, 6, -2])\n",
    "\n",
    "# Решаем систему уравнений Ax = B\n",
    "solution = np.linalg.solve(A, B)\n",
    "\n",
    "# Выводим результат\n",
    "print(\"Решение системы уравнений:\")\n",
    "print(\"x =\", solution[0])\n",
    "print(\"y =\", solution[1])\n",
    "print(\"z =\", solution[2])"
   ]
  },
  {
   "cell_type": "code",
   "execution_count": null,
   "id": "331c5e68-5159-4881-add2-c2d2178bd768",
   "metadata": {},
   "outputs": [],
   "source": []
  }
 ],
 "metadata": {
  "kernelspec": {
   "display_name": "Python [conda env:base] *",
   "language": "python",
   "name": "conda-base-py"
  },
  "language_info": {
   "codemirror_mode": {
    "name": "ipython",
    "version": 3
   },
   "file_extension": ".py",
   "mimetype": "text/x-python",
   "name": "python",
   "nbconvert_exporter": "python",
   "pygments_lexer": "ipython3",
   "version": "3.12.7"
  }
 },
 "nbformat": 4,
 "nbformat_minor": 5
}

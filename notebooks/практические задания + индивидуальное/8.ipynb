{
 "cells": [
  {
   "cell_type": "code",
   "execution_count": 1,
   "id": "bf8e9e17",
   "metadata": {},
   "outputs": [
    {
     "name": "stdout",
     "output_type": "stream",
     "text": [
      "Исходная матрица:\n",
      " [[0.05554635 0.66490963 0.68912159]\n",
      " [0.69785546 0.50384752 0.747731  ]\n",
      " [0.00226231 0.38764827 0.68220259]]\n",
      "\n",
      "Определитель матрицы: -0.12679499780252335\n",
      "\n",
      "Обратная матрица:\n",
      " [[-0.42485469  1.47061224 -1.18270707]\n",
      " [ 3.74137159 -0.28656382 -3.46522767]\n",
      " [-2.12455231  0.15795747  3.43881013]]\n"
     ]
    }
   ],
   "source": [
    "import numpy as np\n",
    "\n",
    "matrix = np.random.rand(3, 3)\n",
    "\n",
    "print(\"Исходная матрица:\\n\", matrix)\n",
    "\n",
    "determinant = np.linalg.det(matrix)\n",
    "print(\"\\nОпределитель матрицы:\", determinant)\n",
    "\n",
    "if abs(determinant) > 1e-8:\n",
    "    try:\n",
    "        inverse_matrix = np.linalg.inv(matrix)\n",
    "        print(\"\\nОбратная матрица:\\n\", inverse_matrix)\n",
    "    except np.linalg.LinAlgError:\n",
    "        print(\"\\nМатрица вырождена и не имеет обратной матрицы.\")\n",
    "\n",
    "else:\n",
    "    print(\"\\nМатрица вырождена и не имеет обратной матрицы.\")\n"
   ]
  },
  {
   "cell_type": "code",
   "execution_count": null,
   "id": "e293e564",
   "metadata": {},
   "outputs": [],
   "source": [
    "\n"
   ]
  }
 ],
 "metadata": {
  "kernelspec": {
   "display_name": "Python [conda env:base] *",
   "language": "python",
   "name": "conda-base-py"
  },
  "language_info": {
   "codemirror_mode": {
    "name": "ipython",
    "version": 3
   },
   "file_extension": ".py",
   "mimetype": "text/x-python",
   "name": "python",
   "nbconvert_exporter": "python",
   "pygments_lexer": "ipython3",
   "version": "3.12.7"
  }
 },
 "nbformat": 4,
 "nbformat_minor": 5
}

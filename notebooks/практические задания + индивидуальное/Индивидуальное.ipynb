{
 "cells": [
  {
   "cell_type": "code",
   "execution_count": 1,
   "id": "fa8f15e9-25ff-4d18-a5a1-5738805c43d7",
   "metadata": {},
   "outputs": [
    {
     "name": "stdout",
     "output_type": "stream",
     "text": [
      "Метод Крамера: x = 180.00, y = 270.00, z = 550.00\n",
      "Матричный метод: x = 180.00, y = 270.00, z = 550.00\n",
      "np.linalg.solve: x = 180.00, y = 270.00, z = 550.00\n",
      "\n",
      "Сравнение результатов:\n",
      "Метод Крамера == np.linalg.solve: True\n",
      "Матричный метод == np.linalg.solve: True\n"
     ]
    }
   ],
   "source": [
    "import numpy as np\n",
    "\n",
    "# Построение системы линейных уравнений\n",
    "# Пусть x - цена первого товара, y - цена второго товара, z - цена третьего товара.\n",
    "# Уравнения:\n",
    "# 1) x = (2/3) * y  =>  x - (2/3)y + 0z = 0\n",
    "# 2) z = x + y + 100 => -x - y + z = 100\n",
    "# 3) x + y + z = 1000\n",
    "\n",
    "# Матрица коэффициентов\n",
    "A = np.array([\n",
    "    [1, -2/3, 0],\n",
    "    [-1, -1, 1],\n",
    "    [1, 1, 1]\n",
    "])\n",
    "\n",
    "# Вектор свободных членов\n",
    "B = np.array([0, 100, 1000])\n",
    "\n",
    "# Метод Крамера\n",
    "def cramer(A, B):\n",
    "    det_A = np.linalg.det(A)\n",
    "    if det_A == 0:\n",
    "        return \"Система не имеет решений или имеет бесконечно много решений\"\n",
    "\n",
    "    x = np.linalg.det(np.array([B, A[:, 1], A[:, 2]]).T) / det_A\n",
    "    y = np.linalg.det(np.array([A[:, 0], B, A[:, 2]]).T) / det_A\n",
    "    z = np.linalg.det(np.array([A[:, 0], A[:, 1], B]).T) / det_A\n",
    "\n",
    "    return x, y, z\n",
    "\n",
    "# Матричный метод (обратная матрица)\n",
    "def matrix_method(A, B):\n",
    "    try:\n",
    "        A_inv = np.linalg.inv(A)\n",
    "        X = np.dot(A_inv, B)\n",
    "        return X\n",
    "    except np.linalg.LinAlgError:\n",
    "        return \"Система не имеет решений или имеет бесконечно много решений\"\n",
    "\n",
    "# Решение с помощью np.linalg.solve\n",
    "X_solve = np.linalg.solve(A, B)\n",
    "\n",
    "# Вызываем методы и выводим результаты\n",
    "X_cramer = cramer(A, B)\n",
    "X_matrix = matrix_method(A, B)\n",
    "\n",
    "print(\"Метод Крамера: x = {:.2f}, y = {:.2f}, z = {:.2f}\".format(*X_cramer))\n",
    "print(\"Матричный метод: x = {:.2f}, y = {:.2f}, z = {:.2f}\".format(*X_matrix))\n",
    "print(\"np.linalg.solve: x = {:.2f}, y = {:.2f}, z = {:.2f}\".format(*X_solve))\n",
    "\n",
    "# Сравнение результатов\n",
    "print(\"\\nСравнение результатов:\")\n",
    "print(\"Метод Крамера == np.linalg.solve:\", np.allclose(X_cramer, X_solve))\n",
    "print(\"Матричный метод == np.linalg.solve:\", np.allclose(X_matrix, X_solve))\n"
   ]
  },
  {
   "cell_type": "code",
   "execution_count": null,
   "id": "00c9a769-e917-47b2-a4b8-32566fd2c6fd",
   "metadata": {},
   "outputs": [],
   "source": []
  }
 ],
 "metadata": {
  "kernelspec": {
   "display_name": "Python [conda env:base] *",
   "language": "python",
   "name": "conda-base-py"
  },
  "language_info": {
   "codemirror_mode": {
    "name": "ipython",
    "version": 3
   },
   "file_extension": ".py",
   "mimetype": "text/x-python",
   "name": "python",
   "nbconvert_exporter": "python",
   "pygments_lexer": "ipython3",
   "version": "3.12.7"
  }
 },
 "nbformat": 4,
 "nbformat_minor": 5
}
